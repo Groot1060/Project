{
 "cells": [
  {
   "cell_type": "code",
   "execution_count": 1,
   "id": "f79b66fc-3ef6-448e-91e0-8c785fce4e55",
   "metadata": {},
   "outputs": [],
   "source": [
    "import face_recognition\n",
    "import pickle\n",
    "import os\n"
   ]
  },
  {
   "cell_type": "code",
   "execution_count": 2,
   "id": "b6343e61-d2e1-4ad7-ae89-9ecf37cb3baf",
   "metadata": {},
   "outputs": [],
   "source": [
    "def load_trained_model():\n",
    "    with open('known_faces.pkl', 'rb') as f:\n",
    "        known_face_encodings, known_face_names = pickle.load(f)\n",
    "    return known_face_encodings, known_face_names\n"
   ]
  },
  {
   "cell_type": "code",
   "execution_count": 6,
   "id": "f1e0028d-6905-466b-82e3-abe4f557328e",
   "metadata": {},
   "outputs": [
    {
     "ename": "NameError",
     "evalue": "name 'correct_matches' is not defined",
     "output_type": "error",
     "traceback": [
      "\u001b[1;31m---------------------------------------------------------------------------\u001b[0m",
      "\u001b[1;31mNameError\u001b[0m                                 Traceback (most recent call last)",
      "Cell \u001b[1;32mIn[6], line 33\u001b[0m\n\u001b[0;32m     30\u001b[0m         \u001b[38;5;28mprint\u001b[39m(\u001b[38;5;124mf\u001b[39m\u001b[38;5;124m\"\u001b[39m\u001b[38;5;124mFace \u001b[39m\u001b[38;5;132;01m{\u001b[39;00mi\u001b[38;5;241m+\u001b[39m\u001b[38;5;241m1\u001b[39m\u001b[38;5;132;01m}\u001b[39;00m\u001b[38;5;124m in \u001b[39m\u001b[38;5;132;01m{\u001b[39;00mimage_path\u001b[38;5;132;01m}\u001b[39;00m\u001b[38;5;124m is predicted as: \u001b[39m\u001b[38;5;132;01m{\u001b[39;00mname\u001b[38;5;132;01m}\u001b[39;00m\u001b[38;5;124m (Actual: \u001b[39m\u001b[38;5;132;01m{\u001b[39;00mactual_names[i]\u001b[38;5;132;01m}\u001b[39;00m\u001b[38;5;124m)\u001b[39m\u001b[38;5;124m\"\u001b[39m)\n\u001b[0;32m     32\u001b[0m     \u001b[38;5;66;03m# Calculate accuracy\u001b[39;00m\n\u001b[1;32m---> 33\u001b[0m accuracy \u001b[38;5;241m=\u001b[39m (\u001b[43mcorrect_matches\u001b[49m \u001b[38;5;241m/\u001b[39m \u001b[38;5;28mlen\u001b[39m(actual_names)) \u001b[38;5;241m*\u001b[39m \u001b[38;5;241m100\u001b[39m\n\u001b[0;32m     34\u001b[0m \u001b[38;5;28mprint\u001b[39m(\u001b[38;5;124mf\u001b[39m\u001b[38;5;124m\"\u001b[39m\u001b[38;5;124mAccuracy: \u001b[39m\u001b[38;5;132;01m{\u001b[39;00maccuracy\u001b[38;5;132;01m:\u001b[39;00m\u001b[38;5;124m.2f\u001b[39m\u001b[38;5;132;01m}\u001b[39;00m\u001b[38;5;124m%\u001b[39m\u001b[38;5;124m\"\u001b[39m)\n",
      "\u001b[1;31mNameError\u001b[0m: name 'correct_matches' is not defined"
     ]
    }
   ],
   "source": [
    "    def test_image_with_accuracy(image_path, actual_names):\n",
    "        # Load the image to test\n",
    "        test_image = face_recognition.load_image_file(image_path)\n",
    "        \n",
    "        # Find all face encodings in the test image\n",
    "        test_face_encodings = face_recognition.face_encodings(test_image)\n",
    "        \n",
    "        if not test_face_encodings:\n",
    "            print(f\"No faces found in {image_path}.\")\n",
    "            return\n",
    "        \n",
    "        # Variables to track accuracy\n",
    "        correct_matches = 0\n",
    "        \n",
    "        # Loop through each face found in the test image\n",
    "        for i, face_encoding in enumerate(test_face_encodings):\n",
    "            # See if the face is a match for the known faces\n",
    "            matches = face_recognition.compare_faces(known_face_encodings, face_encoding)\n",
    "            name = \"Unknown\"\n",
    "\n",
    "            # If a match was found in known_face_encodings, use the first one.\n",
    "            if True in matches:\n",
    "                first_match_index = matches.index(True)\n",
    "                name = known_face_names[first_match_index]\n",
    "\n",
    "            # Compare the predicted name with the actual name\n",
    "            if name == actual_names[i]:\n",
    "                correct_matches += 1\n",
    "            \n",
    "            print(f\"Face {i+1} in {image_path} is predicted as: {name} (Actual: {actual_names[i]})\")\n",
    "        \n",
    "        # Calculate accuracy\n",
    "accuracy = (correct_matches / len(actual_names)) * 100\n",
    "print(f\"Accuracy: {accuracy:.2f}%\")"
   ]
  },
  {
   "cell_type": "code",
   "execution_count": 5,
   "id": "5b292b85-f11a-4c12-a430-fecd794dd8ad",
   "metadata": {},
   "outputs": [
    {
     "ename": "IndentationError",
     "evalue": "unexpected indent (527148627.py, line 2)",
     "output_type": "error",
     "traceback": [
      "\u001b[1;36m  Cell \u001b[1;32mIn[5], line 2\u001b[1;36m\u001b[0m\n\u001b[1;33m    actual_names = [\"John Doe\", \"Jane Smith\"]  # Replace with actual names in the test image\u001b[0m\n\u001b[1;37m    ^\u001b[0m\n\u001b[1;31mIndentationError\u001b[0m\u001b[1;31m:\u001b[0m unexpected indent\n"
     ]
    }
   ],
   "source": [
    "test_image_path = r'C:\\Users\\kisho\\Downloads\\p3\\test_image.jpg'\n",
    "    actual_names = [\"John Doe\", \"Jane Smith\"]  # Replace with actual names in the test image\n",
    "\n",
    "    test_image_with_accuracy(test_image_path, actual_names)"
   ]
  },
  {
   "cell_type": "code",
   "execution_count": null,
   "id": "844ecf3f-cea2-4e29-ab15-fe003775d44e",
   "metadata": {},
   "outputs": [],
   "source": []
  }
 ],
 "metadata": {
  "kernelspec": {
   "display_name": "Python 3 (ipykernel)",
   "language": "python",
   "name": "python3"
  },
  "language_info": {
   "codemirror_mode": {
    "name": "ipython",
    "version": 3
   },
   "file_extension": ".py",
   "mimetype": "text/x-python",
   "name": "python",
   "nbconvert_exporter": "python",
   "pygments_lexer": "ipython3",
   "version": "3.8.0"
  }
 },
 "nbformat": 4,
 "nbformat_minor": 5
}
