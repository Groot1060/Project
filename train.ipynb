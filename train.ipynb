{
 "cells": [
  {
   "cell_type": "code",
   "execution_count": 4,
   "id": "0b943d33-ec2f-413b-af5c-2c35c3c1fe53",
   "metadata": {},
   "outputs": [],
   "source": [
    "import face_recognition\n",
    "import os\n",
    "import pickle\n"
   ]
  },
  {
   "cell_type": "code",
   "execution_count": 5,
   "id": "9fba6c00-f2ad-4b55-b470-aacfc2f0a2de",
   "metadata": {},
   "outputs": [],
   "source": [
    "def train_model(data_dir=r'C:\\Users\\kisho\\Downloads\\p3\\dataset'):\n",
    "    known_face_encodings = []\n",
    "    known_face_names = []\n",
    "\n",
    "    # Iterate over each person in the dataset directory\n",
    "    for person_name in os.listdir(data_dir):\n",
    "        person_dir = os.path.join(data_dir, person_name)\n",
    "        if os.path.isdir(person_dir):\n",
    "            # Iterate over each image file for that person\n",
    "            for image_name in os.listdir(person_dir):\n",
    "                image_path = os.path.join(person_dir, image_name)\n",
    "                if image_name.endswith(('.jpg', '.jpeg', '.png')):\n",
    "                    # Load the image file and encode the face\n",
    "                    image = face_recognition.load_image_file(image_path)\n",
    "                    encodings = face_recognition.face_encodings(image)\n",
    "\n",
    "                    if encodings:\n",
    "                        # Assuming one face per image, add the encoding\n",
    "                        known_face_encodings.append(encodings[0])\n",
    "                        known_face_names.append(person_name)\n",
    "                    else:\n",
    "                        print(f\"No faces found in {image_name}. Skipping.\")\n",
    "\n",
    "    # Save the known faces and their names\n",
    "    with open('known_faces.pkl', 'wb') as f:\n",
    "        pickle.dump((known_face_encodings, known_face_names), f)\n",
    "        print(f\"Model trained with {len(known_face_encodings)} faces.\")\n"
   ]
  },
  {
   "cell_type": "code",
   "execution_count": 3,
   "id": "88f3130e-b3c5-42ca-b4a8-c2259a9ee254",
   "metadata": {},
   "outputs": [
    {
     "name": "stdout",
     "output_type": "stream",
     "text": [
      "No faces found in WIN_20240824_23_29_52_Pro.jpg. Skipping.\n",
      "Model trained with 12 faces.\n"
     ]
    }
   ],
   "source": [
    "train_model()\n",
    "\n"
   ]
  },
  {
   "cell_type": "code",
   "execution_count": null,
   "id": "4e38e71e-fb3f-437d-8edd-acf6a9d8e0f6",
   "metadata": {},
   "outputs": [],
   "source": []
  }
 ],
 "metadata": {
  "kernelspec": {
   "display_name": "Python 3 (ipykernel)",
   "language": "python",
   "name": "python3"
  },
  "language_info": {
   "codemirror_mode": {
    "name": "ipython",
    "version": 3
   },
   "file_extension": ".py",
   "mimetype": "text/x-python",
   "name": "python",
   "nbconvert_exporter": "python",
   "pygments_lexer": "ipython3",
   "version": "3.8.0"
  }
 },
 "nbformat": 4,
 "nbformat_minor": 5
}
